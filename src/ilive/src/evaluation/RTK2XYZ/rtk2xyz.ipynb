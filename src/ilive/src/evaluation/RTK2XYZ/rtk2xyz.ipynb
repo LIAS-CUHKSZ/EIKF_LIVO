{
 "cells": [
  {
   "attachments": {},
   "cell_type": "markdown",
   "metadata": {},
   "source": [
    "# Prerequisites\n",
    "Module Needed:\n",
    "- pyproj (the key module: for coordinate transformation)\n",
    "- pandas (to process csv file)\n",
    "- numpy (optional)\n",
    "\n",
    "you can simply run `pip install` or `conda install` to install the module needed"
   ]
  },
  {
   "attachments": {},
   "cell_type": "markdown",
   "metadata": {},
   "source": [
    "```bash\n",
    "pip install pyproj\n",
    "pip install pandas\n",
    "pip install numpy\n",
    "```"
   ]
  },
  {
   "cell_type": "code",
   "execution_count": 83,
   "metadata": {},
   "outputs": [],
   "source": [
    "from pyproj import CRS\n",
    "from pyproj import Transformer\n",
    "import pandas as pd\n",
    "try:\n",
    "    import numpy as np\n",
    "except:\n",
    "    print(\"You can install numpy to improve the accuracy of the result.\")"
   ]
  },
  {
   "attachments": {},
   "cell_type": "markdown",
   "metadata": {},
   "source": [
    "# Function\n",
    "\n",
    "Parameters:\n",
    "\n",
    "- **header**\n",
    "\n",
    "    a list of string including the header of the csv file (can only includes the columns you need).\n",
    "    must include the following labels:\n",
    "    - longitude\n",
    "    - latitude\n",
    "    - altitude\n",
    "\n",
    "- **input_csv**\n",
    "- **output_csv**\n",
    "\n",
    "    the input and output csv file path (support both relative path and absolute path)\n",
    "\n",
    "- **epsg**: \n",
    "\n",
    "    the epsg code of the utm zone (or other projected coordinates) you want to convert to, which can be found [here](https://epsg.io/).\n",
    "    \n",
    "    - to identify the utm zone, you can use [this website](https://awsm-tools.com/lat-long-to-utm)\n",
    "\n",
    "    - to find the epsg code corresponding to the utm zone, you can use [this website](https://epsg.io/)\n",
    "\n",
    "    default: epsg=32650 (utm zone 50N)\n",
    "\n",
    "    Area of use: Between 114°E and 120°E, northern hemisphere between equator and 84°N, onshore and offshore\n",
    "\n",
    "    Brunei. China. Hong Kong. Indonesia. Malaysia - East Malaysia - Sarawak. Mongolia. Philippines. Russian Federation. Taiwan.\n",
    "\n",
    "- **flag**\n",
    "    \n",
    "    whether to use numpy to improve the accuracy using float64 (default: False)\n",
    "\n",
    "- **base**\n",
    "\n",
    "    a size 2 list of number representing the base coordinate in RTK (default: None)\n",
    "\n",
    "    base[0] should be the longitude of the base coordinate, base[1] should be the latitude of the base coordinate\n",
    "\n",
    "    if base is None, the base coordinate will be the first coordinate in the csv file\n",
    "\n",
    "    if base is not None, the base coordinate will be the coordinate you set\n",
    "\n",
    "    e.g. base = [114.123456, 22.123456]"
   ]
  },
  {
   "cell_type": "code",
   "execution_count": 84,
   "metadata": {},
   "outputs": [],
   "source": [
    "def rtk2xyz(header, input_csv, output_csv, epsg = 32650, flag = False, base = []):\n",
    "    \"\"\"[RTK].csv to [XYZ].csv\n",
    "\n",
    "    Args:\n",
    "        header (string list): header of the csv file (can only includes the columns you need)\n",
    "        input_csv (string): path of RTK csv file\n",
    "        output_csv (string): path of XYZ csv file\n",
    "        epsg (int): epsg code of the utm zone or other projected coordinate (default: 32650 which is the code of UTM50N)\n",
    "        flag (bool): whether to use numpy to improve the accuracy using float64 (default: False)\n",
    "        base (number list): [longitude, latitude] of the base point (default: [])\n",
    "    \"\"\"\n",
    "    \n",
    "    rtk_crs = CRS.from_epsg(4326) # WGS84 -- GPS所用坐标系统\n",
    "    utm_crs = CRS.from_epsg(epsg) # UTM50N -- UTM投影坐标系统（正东方向为x轴正方向，正北方向为y轴正方向）\n",
    "    transformer = Transformer.from_crs(rtk_crs, utm_crs)\n",
    "\n",
    "    # 从csv读取\n",
    "    if(flag):\n",
    "        data = pd.read_csv(input_csv,usecols=header,dtype={'longitude':np.float64,'latitude':np.float64})\n",
    "    else:\n",
    "        data = pd.read_csv(input_csv,usecols=header,dtype={'longitude':float,'latitude':float})\n",
    "\n",
    "    # 基准点\n",
    "    if(base==[]):\n",
    "        base_longitude = data['longitude'][0]\n",
    "        base_latitude = data['latitude'][0]\n",
    "        base_x , base_y = transformer.transform(base_latitude,base_longitude)\n",
    "    else:\n",
    "        base_x , base_y = transformer.transform(base[1],base[0])\n",
    "\n",
    "    # 整体运算\n",
    "    data['longitude'],data['latitude'] = transformer.transform(data['latitude'],data['longitude'])\n",
    "    data['longitude'] = data['longitude'] - base_x\n",
    "    data['latitude'] = data['latitude'] - base_y\n",
    "\n",
    "    data.rename(columns={'longitude':'x','latitude':'y','altitude':'z'},inplace=True)\n",
    "\n",
    "    # 输出到csv\n",
    "    data.to_csv(output_csv,index=False)"
   ]
  },
  {
   "attachments": {},
   "cell_type": "markdown",
   "metadata": {},
   "source": [
    "# Usage"
   ]
  },
  {
   "cell_type": "code",
   "execution_count": 85,
   "metadata": {},
   "outputs": [],
   "source": [
    "from rtk2xyz import rtk2xyz\n",
    "rtk2xyz(['%time','field.header.seq','field.header.stamp','longitude','latitude','altitude'],'./RTK17.csv','./XYZ17.csv',flag=True)\n",
    "rtk2xyz(['%time','field.header.seq','field.header.stamp','longitude','latitude','altitude'],'./RTK18.csv','./XYZ18.csv',flag=True,base=[114.20877497,22.69096604])"
   ]
  },
  {
   "attachments": {},
   "cell_type": "markdown",
   "metadata": {},
   "source": [
    "&copyright; 2023 [LysanderT](https://github.com/LysanderT/RTK2XYZ)"
   ]
  }
 ],
 "metadata": {
  "kernelspec": {
   "display_name": "Python 3.8.10 64-bit",
   "language": "python",
   "name": "python3"
  },
  "language_info": {
   "codemirror_mode": {
    "name": "ipython",
    "version": 3
   },
   "file_extension": ".py",
   "mimetype": "text/x-python",
   "name": "python",
   "nbconvert_exporter": "python",
   "pygments_lexer": "ipython3",
   "version": "3.8.10"
  },
  "orig_nbformat": 4,
  "vscode": {
   "interpreter": {
    "hash": "e7370f93d1d0cde622a1f8e1c04877d8463912d04d973331ad4851f04de6915a"
   }
  }
 },
 "nbformat": 4,
 "nbformat_minor": 2
}
